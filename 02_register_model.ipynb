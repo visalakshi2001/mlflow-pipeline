{
 "cells": [
  {
   "cell_type": "markdown",
   "metadata": {},
   "source": [
    "## Registering our Model\n",
    "### Getting our best runs"
   ]
  },
  {
   "cell_type": "code",
   "execution_count": 1,
   "metadata": {},
   "outputs": [],
   "source": [
    "import mlflow\n",
    "from mlflow.tracking import MlflowClient\n",
    "import os"
   ]
  },
  {
   "cell_type": "code",
   "execution_count": 2,
   "metadata": {},
   "outputs": [
    {
     "data": {
      "text/plain": [
       "<Experiment: artifact_location='./mlruns/1', experiment_id='1', lifecycle_stage='active', name='elastic_net_experiment', tags={}>"
      ]
     },
     "execution_count": 2,
     "metadata": {},
     "output_type": "execute_result"
    }
   ],
   "source": [
    "#Get experiment\n",
    "mlflow.set_tracking_uri(\"sqlite:///mlflow.db\")\n",
    "experiment = mlflow.get_experiment_by_name(\"elastic_net_experiment\")\n",
    "experiment"
   ]
  },
  {
   "cell_type": "code",
   "execution_count": 3,
   "metadata": {
    "scrolled": true
   },
   "outputs": [
    {
     "data": {
      "text/plain": [
       "[<Run: data=<RunData: metrics={'mae': 51.05182860408632, 'r2': 0.3951809598912357, 'rmse': 63.24666777876805}, params={'alpha': '0.01', 'l1_ratio': '1.0'}, tags={'mlflow.log-model.history': '[{\"run_id\": \"a365265825ca440fa9aaa9eaf4efe603\", '\n",
       "                              '\"artifact_path\": \"model\", \"utc_time_created\": '\n",
       "                              '\"2023-01-22 14:38:29.136398\", \"flavors\": '\n",
       "                              '{\"python_function\": {\"model_path\": \"model.pkl\", '\n",
       "                              '\"loader_module\": \"mlflow.sklearn\", '\n",
       "                              '\"python_version\": \"3.7.6\", \"env\": \"conda.yaml\"}, '\n",
       "                              '\"sklearn\": {\"pickled_model\": \"model.pkl\", '\n",
       "                              '\"sklearn_version\": \"1.0.2\", '\n",
       "                              '\"serialization_format\": \"cloudpickle\", \"code\": '\n",
       "                              'null}}, \"model_uuid\": '\n",
       "                              '\"3ec35082b99e473a87ce0c2ea2eb7dd9\", '\n",
       "                              '\"mlflow_version\": \"1.27.0\"}]',\n",
       "  'mlflow.runName': 'my_run',\n",
       "  'mlflow.source.git.commit': '72e09dea933da7dac116c3695f50de7ea83b4d31',\n",
       "  'mlflow.source.name': 'd:\\\\drive_a\\\\mlflow\\\\mlflow-getting-started\\\\new-mlflow\\\\lib\\\\site-packages\\\\ipykernel_launcher.py',\n",
       "  'mlflow.source.type': 'LOCAL',\n",
       "  'mlflow.user': 'visalakshi'}>, info=<RunInfo: artifact_uri='./mlruns/1/a365265825ca440fa9aaa9eaf4efe603/artifacts', end_time=1674398312129, experiment_id='1', lifecycle_stage='active', run_id='a365265825ca440fa9aaa9eaf4efe603', run_uuid='a365265825ca440fa9aaa9eaf4efe603', start_time=1674398308346, status='FINISHED', user_id='visalakshi'>>,\n",
       " <Run: data=<RunData: metrics={'mae': 56.73838604280737, 'r2': 0.30119208073981796, 'rmse': 67.98354871814037}, params={'alpha': '0.01', 'l1_ratio': '0.5'}, tags={'mlflow.log-model.history': '[{\"run_id\": \"d6eee050e2c24e168893f2b033c7ee8b\", '\n",
       "                              '\"artifact_path\": \"model\", \"utc_time_created\": '\n",
       "                              '\"2023-01-22 14:38:25.079320\", \"flavors\": '\n",
       "                              '{\"python_function\": {\"model_path\": \"model.pkl\", '\n",
       "                              '\"loader_module\": \"mlflow.sklearn\", '\n",
       "                              '\"python_version\": \"3.7.6\", \"env\": \"conda.yaml\"}, '\n",
       "                              '\"sklearn\": {\"pickled_model\": \"model.pkl\", '\n",
       "                              '\"sklearn_version\": \"1.0.2\", '\n",
       "                              '\"serialization_format\": \"cloudpickle\", \"code\": '\n",
       "                              'null}}, \"model_uuid\": '\n",
       "                              '\"be9ed2d90caa4bc69b921243044f9221\", '\n",
       "                              '\"mlflow_version\": \"1.27.0\"}]',\n",
       "  'mlflow.runName': 'my_run',\n",
       "  'mlflow.source.git.commit': '72e09dea933da7dac116c3695f50de7ea83b4d31',\n",
       "  'mlflow.source.name': 'd:\\\\drive_a\\\\mlflow\\\\mlflow-getting-started\\\\new-mlflow\\\\lib\\\\site-packages\\\\ipykernel_launcher.py',\n",
       "  'mlflow.source.type': 'LOCAL',\n",
       "  'mlflow.user': 'visalakshi'}>, info=<RunInfo: artifact_uri='./mlruns/1/d6eee050e2c24e168893f2b033c7ee8b/artifacts', end_time=1674398308096, experiment_id='1', lifecycle_stage='active', run_id='d6eee050e2c24e168893f2b033c7ee8b', run_uuid='d6eee050e2c24e168893f2b033c7ee8b', start_time=1674398304156, status='FINISHED', user_id='visalakshi'>>,\n",
       " <Run: data=<RunData: metrics={'mae': 53.75914828434926, 'r2': 0.35547047607749416, 'rmse': 65.28994906390733}, params={'alpha': '0.01', 'l1_ratio': '0.75'}, tags={'mlflow.log-model.history': '[{\"run_id\": \"0a7579825dc34b0584372d307a9357da\", '\n",
       "                              '\"artifact_path\": \"model\", \"utc_time_created\": '\n",
       "                              '\"2023-01-22 14:38:21.199810\", \"flavors\": '\n",
       "                              '{\"python_function\": {\"model_path\": \"model.pkl\", '\n",
       "                              '\"loader_module\": \"mlflow.sklearn\", '\n",
       "                              '\"python_version\": \"3.7.6\", \"env\": \"conda.yaml\"}, '\n",
       "                              '\"sklearn\": {\"pickled_model\": \"model.pkl\", '\n",
       "                              '\"sklearn_version\": \"1.0.2\", '\n",
       "                              '\"serialization_format\": \"cloudpickle\", \"code\": '\n",
       "                              'null}}, \"model_uuid\": '\n",
       "                              '\"fe24b7a147ab43fc956b6c3ea52fe7a1\", '\n",
       "                              '\"mlflow_version\": \"1.27.0\"}]',\n",
       "  'mlflow.runName': 'my_run',\n",
       "  'mlflow.source.git.commit': '72e09dea933da7dac116c3695f50de7ea83b4d31',\n",
       "  'mlflow.source.name': 'd:\\\\drive_a\\\\mlflow\\\\mlflow-getting-started\\\\new-mlflow\\\\lib\\\\site-packages\\\\ipykernel_launcher.py',\n",
       "  'mlflow.source.type': 'LOCAL',\n",
       "  'mlflow.user': 'visalakshi'}>, info=<RunInfo: artifact_uri='./mlruns/1/0a7579825dc34b0584372d307a9357da/artifacts', end_time=1674398303913, experiment_id='1', lifecycle_stage='active', run_id='0a7579825dc34b0584372d307a9357da', run_uuid='0a7579825dc34b0584372d307a9357da', start_time=1674398300371, status='FINISHED', user_id='visalakshi'>>,\n",
       " <Run: data=<RunData: metrics={'mae': 60.09124839565383, 'r2': 0.2291130640003659, 'rmse': 71.40362571026475}, params={'alpha': '0.01', 'l1_ratio': '0.01'}, tags={'mlflow.log-model.history': '[{\"run_id\": \"f808c1f35a7f4d5991777f0049aae4b2\", '\n",
       "                              '\"artifact_path\": \"model\", \"utc_time_created\": '\n",
       "                              '\"2023-01-22 14:38:16.114446\", \"flavors\": '\n",
       "                              '{\"python_function\": {\"model_path\": \"model.pkl\", '\n",
       "                              '\"loader_module\": \"mlflow.sklearn\", '\n",
       "                              '\"python_version\": \"3.7.6\", \"env\": \"conda.yaml\"}, '\n",
       "                              '\"sklearn\": {\"pickled_model\": \"model.pkl\", '\n",
       "                              '\"sklearn_version\": \"1.0.2\", '\n",
       "                              '\"serialization_format\": \"cloudpickle\", \"code\": '\n",
       "                              'null}}, \"model_uuid\": '\n",
       "                              '\"8e4d1392d7fb4629a5e441c2166e3547\", '\n",
       "                              '\"mlflow_version\": \"1.27.0\"}]',\n",
       "  'mlflow.runName': 'my_run',\n",
       "  'mlflow.source.git.commit': '72e09dea933da7dac116c3695f50de7ea83b4d31',\n",
       "  'mlflow.source.name': 'd:\\\\drive_a\\\\mlflow\\\\mlflow-getting-started\\\\new-mlflow\\\\lib\\\\site-packages\\\\ipykernel_launcher.py',\n",
       "  'mlflow.source.type': 'LOCAL',\n",
       "  'mlflow.user': 'visalakshi'}>, info=<RunInfo: artifact_uri='./mlruns/1/f808c1f35a7f4d5991777f0049aae4b2/artifacts', end_time=1674398300143, experiment_id='1', lifecycle_stage='active', run_id='f808c1f35a7f4d5991777f0049aae4b2', run_uuid='f808c1f35a7f4d5991777f0049aae4b2', start_time=1674398295179, status='FINISHED', user_id='visalakshi'>>]"
      ]
     },
     "execution_count": 3,
     "metadata": {},
     "output_type": "execute_result"
    }
   ],
   "source": [
    "# Get experiment runs\n",
    "client = MlflowClient()\n",
    "runs = client.search_runs(experiment_ids = [experiment.experiment_id])\n",
    "runs"
   ]
  },
  {
   "cell_type": "code",
   "execution_count": 4,
   "metadata": {},
   "outputs": [
    {
     "name": "stdout",
     "output_type": "stream",
     "text": [
      "63.24666777876805\n"
     ]
    },
    {
     "data": {
      "text/plain": [
       "<RunInfo: artifact_uri='./mlruns/1/a365265825ca440fa9aaa9eaf4efe603/artifacts', end_time=1674398312129, experiment_id='1', lifecycle_stage='active', run_id='a365265825ca440fa9aaa9eaf4efe603', run_uuid='a365265825ca440fa9aaa9eaf4efe603', start_time=1674398308346, status='FINISHED', user_id='visalakshi'>"
      ]
     },
     "execution_count": 4,
     "metadata": {},
     "output_type": "execute_result"
    }
   ],
   "source": [
    "#Get the best metrics value and use it to find the best run\n",
    "\n",
    "metrics = [run.data.metrics[\"rmse\"] for run in runs]\n",
    "best_rmse = min(metrics)\n",
    "best_run = [run for run in runs if run.data.metrics[\"rmse\"] == best_rmse][0]\n",
    "print(best_rmse)\n",
    "best_run.info"
   ]
  },
  {
   "cell_type": "code",
   "execution_count": 6,
   "metadata": {},
   "outputs": [
    {
     "name": "stderr",
     "output_type": "stream",
     "text": [
      "Registered model 'my_enet_model' already exists. Creating a new version of this model...\n",
      "2023/01/22 20:12:55 INFO mlflow.tracking._model_registry.client: Waiting up to 300 seconds for model version to finish creation.                     Model name: my_enet_model, version 2\n",
      "Created version '2' of model 'my_enet_model'.\n"
     ]
    },
    {
     "data": {
      "text/plain": [
       "<ModelVersion: creation_timestamp=1674398575614, current_stage='None', description=None, last_updated_timestamp=1674398575614, name='my_enet_model', run_id='a365265825ca440fa9aaa9eaf4efe603', run_link=None, source='./mlruns/1/a365265825ca440fa9aaa9eaf4efe603/artifacts/model', status='READY', status_message=None, tags={}, user_id=None, version=2>"
      ]
     },
     "execution_count": 6,
     "metadata": {},
     "output_type": "execute_result"
    }
   ],
   "source": [
    "# Register the model from the best run and log it\n",
    "\n",
    "model_name = \"my_enet_model\"\n",
    "mlflow.set_experiment(experiment_name = \"elastic_net_experiment\")\n",
    "model_uri = f\"runs:/{best_run.info.run_id}/model\"\n",
    "model_version = mlflow.register_model(model_uri = model_uri, name = model_name)\n",
    "model_version"
   ]
  },
  {
   "cell_type": "markdown",
   "metadata": {},
   "source": [
    "## Loading our model"
   ]
  },
  {
   "cell_type": "code",
   "execution_count": null,
   "metadata": {},
   "outputs": [],
   "source": [
    "mlflow.set_tracking_uri(\"sqlite:///mlflow.db\")\n",
    "model = client.get_registered_model(name = \"my_enet_model\")\n",
    "model"
   ]
  },
  {
   "cell_type": "code",
   "execution_count": null,
   "metadata": {},
   "outputs": [],
   "source": [
    "model_artifact = mlflow.sklearn.load_model(model_uri)\n",
    "model_artifact"
   ]
  },
  {
   "cell_type": "markdown",
   "metadata": {},
   "source": [
    "## Running inference"
   ]
  },
  {
   "cell_type": "code",
   "execution_count": null,
   "metadata": {},
   "outputs": [],
   "source": [
    "from sklearn import datasets\n",
    "import numpy as np\n",
    "\n",
    "diabetes = datasets.load_diabetes()\n",
    "data = diabetes.data\n",
    "pred = model_artifact.predict(data)\n",
    "pred"
   ]
  },
  {
   "cell_type": "markdown",
   "metadata": {},
   "source": [
    "## Adding metadata to our model"
   ]
  },
  {
   "cell_type": "code",
   "execution_count": null,
   "metadata": {},
   "outputs": [],
   "source": [
    "client.set_model_version_tag(model_name, model_version.version, key = \"prediction_works\", value = \"true\")"
   ]
  },
  {
   "cell_type": "code",
   "execution_count": null,
   "metadata": {},
   "outputs": [],
   "source": [
    "model_version_info = client.get_model_version(model_name, model_version.version)\n",
    "model_version_info.tags"
   ]
  },
  {
   "cell_type": "markdown",
   "metadata": {},
   "source": [
    "## Promoting our model to Staging"
   ]
  },
  {
   "cell_type": "markdown",
   "metadata": {},
   "source": [
    "We are happy with our model (for now), so let's promote it to Staging"
   ]
  },
  {
   "cell_type": "code",
   "execution_count": 9,
   "metadata": {},
   "outputs": [
    {
     "data": {
      "text/plain": [
       "<ModelVersion: creation_timestamp=1674398575614, current_stage='Production', description=None, last_updated_timestamp=1674398727383, name='my_enet_model', run_id='a365265825ca440fa9aaa9eaf4efe603', run_link=None, source='./mlruns/1/a365265825ca440fa9aaa9eaf4efe603/artifacts/model', status='READY', status_message=None, tags={}, user_id=None, version=2>"
      ]
     },
     "execution_count": 9,
     "metadata": {},
     "output_type": "execute_result"
    }
   ],
   "source": [
    "client.transition_model_version_stage(model_name, model_version.version, stage = \"Production\")"
   ]
  },
  {
   "cell_type": "code",
   "execution_count": 8,
   "metadata": {},
   "outputs": [
    {
     "data": {
      "text/plain": [
       "'Staging'"
      ]
     },
     "execution_count": 8,
     "metadata": {},
     "output_type": "execute_result"
    }
   ],
   "source": [
    "model_version_info = client.get_model_version(model_name, model_version.version)\n",
    "model_version_info.current_stage"
   ]
  },
  {
   "cell_type": "code",
   "execution_count": null,
   "metadata": {},
   "outputs": [],
   "source": []
  }
 ],
 "metadata": {
  "kernelspec": {
   "display_name": "Python 3 (ipykernel)",
   "language": "python",
   "name": "python3"
  },
  "language_info": {
   "codemirror_mode": {
    "name": "ipython",
    "version": 3
   },
   "file_extension": ".py",
   "mimetype": "text/x-python",
   "name": "python",
   "nbconvert_exporter": "python",
   "pygments_lexer": "ipython3",
   "version": "3.7.6"
  },
  "vscode": {
   "interpreter": {
    "hash": "7baa50897d4cce1ffdf870943c75c25ea2f47fd16501d539c6ffbc9d251a613c"
   }
  }
 },
 "nbformat": 4,
 "nbformat_minor": 2
}
